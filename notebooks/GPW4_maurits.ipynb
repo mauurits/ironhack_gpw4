{
 "cells": [
  {
   "cell_type": "code",
   "execution_count": 49,
   "metadata": {},
   "outputs": [
    {
     "name": "stderr",
     "output_type": "stream",
     "text": [
      "/var/folders/3v/mdv6bm7j6n99zg9hqgt9n70r0000gn/T/ipykernel_84684/3695448295.py:9: DtypeWarning: Columns (40,44,45,49) have mixed types. Specify dtype option on import or set low_memory=False.\n",
      "  df1 = pd.read_csv(data1)\n"
     ]
    }
   ],
   "source": [
    "import pandas as pd\n",
    "import matplotlib.pyplot as plt\n",
    "import seaborn as sns\n",
    "\n",
    "data1 = \"/Users/maurits/Documents/Ironhack/week_04/gpw4/ironhack_gpw4/data/raw/T_ONTIME_MARKETING.csv\"\n",
    "data2 = \"../data/raw/Consumer_Airfare_Report__Table_2_-_Top_1_000_City-Pair_Markets_20240710.csv\"\n",
    "data3 = \"../data/raw/Bansard-airlines-codes-IATA-ICAO.xlsx\"\n",
    "\n",
    "df1 = pd.read_csv(data1)\n",
    "# df2 = pd.read_csv(data2)\n",
    "# iata = pd.read_excel(data3, sheet_name=\"IATA Airlines\")\n",
    "# all_airlines = pd.read_excel(data3, sheet_name=\"All Airlines\")\n"
   ]
  },
  {
   "cell_type": "code",
   "execution_count": 50,
   "metadata": {},
   "outputs": [],
   "source": [
    "flight = df1[['FL_DATE','MKT_UNIQUE_CARRIER','OP_UNIQUE_CARRIER','OP_CARRIER_FL_NUM','ORIGIN_CITY_NAME',\n",
    "            'DEST_CITY_NAME','CRS_DEP_TIME','DEP_TIME', 'DEP_DELAY', 'ARR_TIME', 'ARR_DELAY','ARR_DELAY_NEW',\n",
    "           'CANCELLED','DISTANCE']]"
   ]
  },
  {
   "cell_type": "code",
   "execution_count": 53,
   "metadata": {},
   "outputs": [
    {
     "data": {
      "text/html": [
       "<div>\n",
       "<style scoped>\n",
       "    .dataframe tbody tr th:only-of-type {\n",
       "        vertical-align: middle;\n",
       "    }\n",
       "\n",
       "    .dataframe tbody tr th {\n",
       "        vertical-align: top;\n",
       "    }\n",
       "\n",
       "    .dataframe thead th {\n",
       "        text-align: right;\n",
       "    }\n",
       "</style>\n",
       "<table border=\"1\" class=\"dataframe\">\n",
       "  <thead>\n",
       "    <tr style=\"text-align: right;\">\n",
       "      <th></th>\n",
       "      <th>FL_DATE</th>\n",
       "      <th>MKT_UNIQUE_CARRIER</th>\n",
       "      <th>OP_UNIQUE_CARRIER</th>\n",
       "      <th>OP_CARRIER_FL_NUM</th>\n",
       "      <th>ORIGIN_CITY_NAME</th>\n",
       "      <th>DEST_CITY_NAME</th>\n",
       "      <th>CRS_DEP_TIME</th>\n",
       "      <th>DEP_TIME</th>\n",
       "      <th>DEP_DELAY</th>\n",
       "      <th>ARR_TIME</th>\n",
       "      <th>ARR_DELAY</th>\n",
       "      <th>ARR_DELAY_NEW</th>\n",
       "      <th>CANCELLED</th>\n",
       "      <th>DISTANCE</th>\n",
       "    </tr>\n",
       "  </thead>\n",
       "  <tbody>\n",
       "    <tr>\n",
       "      <th>0</th>\n",
       "      <td>1/1/2024 12:00:00 AM</td>\n",
       "      <td>AA</td>\n",
       "      <td>AA</td>\n",
       "      <td>255</td>\n",
       "      <td>New York, NY</td>\n",
       "      <td>Los Angeles, CA</td>\n",
       "      <td>900</td>\n",
       "      <td>852.0</td>\n",
       "      <td>-8.0</td>\n",
       "      <td>1124.0</td>\n",
       "      <td>-63.0</td>\n",
       "      <td>0.0</td>\n",
       "      <td>0.0</td>\n",
       "      <td>2475.0</td>\n",
       "    </tr>\n",
       "    <tr>\n",
       "      <th>1</th>\n",
       "      <td>1/1/2024 12:00:00 AM</td>\n",
       "      <td>AA</td>\n",
       "      <td>AA</td>\n",
       "      <td>32</td>\n",
       "      <td>Los Angeles, CA</td>\n",
       "      <td>New York, NY</td>\n",
       "      <td>1235</td>\n",
       "      <td>1232.0</td>\n",
       "      <td>-3.0</td>\n",
       "      <td>2107.0</td>\n",
       "      <td>8.0</td>\n",
       "      <td>8.0</td>\n",
       "      <td>0.0</td>\n",
       "      <td>2475.0</td>\n",
       "    </tr>\n",
       "    <tr>\n",
       "      <th>2</th>\n",
       "      <td>1/1/2024 12:00:00 AM</td>\n",
       "      <td>AA</td>\n",
       "      <td>AA</td>\n",
       "      <td>1578</td>\n",
       "      <td>Boston, MA</td>\n",
       "      <td>Los Angeles, CA</td>\n",
       "      <td>1800</td>\n",
       "      <td>1754.0</td>\n",
       "      <td>-6.0</td>\n",
       "      <td>2041.0</td>\n",
       "      <td>-59.0</td>\n",
       "      <td>0.0</td>\n",
       "      <td>0.0</td>\n",
       "      <td>2611.0</td>\n",
       "    </tr>\n",
       "    <tr>\n",
       "      <th>3</th>\n",
       "      <td>1/1/2024 12:00:00 AM</td>\n",
       "      <td>AA</td>\n",
       "      <td>AA</td>\n",
       "      <td>1578</td>\n",
       "      <td>Los Angeles, CA</td>\n",
       "      <td>Boston, MA</td>\n",
       "      <td>750</td>\n",
       "      <td>742.0</td>\n",
       "      <td>-8.0</td>\n",
       "      <td>1638.0</td>\n",
       "      <td>19.0</td>\n",
       "      <td>19.0</td>\n",
       "      <td>0.0</td>\n",
       "      <td>2611.0</td>\n",
       "    </tr>\n",
       "    <tr>\n",
       "      <th>4</th>\n",
       "      <td>1/1/2024 12:00:00 AM</td>\n",
       "      <td>AA</td>\n",
       "      <td>AA</td>\n",
       "      <td>1225</td>\n",
       "      <td>Phoenix, AZ</td>\n",
       "      <td>Portland, OR</td>\n",
       "      <td>1502</td>\n",
       "      <td>1458.0</td>\n",
       "      <td>-4.0</td>\n",
       "      <td>1654.0</td>\n",
       "      <td>0.0</td>\n",
       "      <td>0.0</td>\n",
       "      <td>0.0</td>\n",
       "      <td>1009.0</td>\n",
       "    </tr>\n",
       "    <tr>\n",
       "      <th>5</th>\n",
       "      <td>1/1/2024 12:00:00 AM</td>\n",
       "      <td>AA</td>\n",
       "      <td>AA</td>\n",
       "      <td>1225</td>\n",
       "      <td>Portland, OR</td>\n",
       "      <td>Phoenix, AZ</td>\n",
       "      <td>1815</td>\n",
       "      <td>1815.0</td>\n",
       "      <td>0.0</td>\n",
       "      <td>2139.0</td>\n",
       "      <td>-8.0</td>\n",
       "      <td>0.0</td>\n",
       "      <td>0.0</td>\n",
       "      <td>1009.0</td>\n",
       "    </tr>\n",
       "    <tr>\n",
       "      <th>6</th>\n",
       "      <td>1/1/2024 12:00:00 AM</td>\n",
       "      <td>AA</td>\n",
       "      <td>AA</td>\n",
       "      <td>1332</td>\n",
       "      <td>Denver, CO</td>\n",
       "      <td>Phoenix, AZ</td>\n",
       "      <td>1206</td>\n",
       "      <td>1204.0</td>\n",
       "      <td>-2.0</td>\n",
       "      <td>1355.0</td>\n",
       "      <td>-16.0</td>\n",
       "      <td>0.0</td>\n",
       "      <td>0.0</td>\n",
       "      <td>602.0</td>\n",
       "    </tr>\n",
       "    <tr>\n",
       "      <th>7</th>\n",
       "      <td>1/1/2024 12:00:00 AM</td>\n",
       "      <td>AA</td>\n",
       "      <td>AA</td>\n",
       "      <td>1332</td>\n",
       "      <td>Phoenix, AZ</td>\n",
       "      <td>Denver, CO</td>\n",
       "      <td>930</td>\n",
       "      <td>926.0</td>\n",
       "      <td>-4.0</td>\n",
       "      <td>1110.0</td>\n",
       "      <td>-11.0</td>\n",
       "      <td>0.0</td>\n",
       "      <td>0.0</td>\n",
       "      <td>602.0</td>\n",
       "    </tr>\n",
       "    <tr>\n",
       "      <th>8</th>\n",
       "      <td>1/1/2024 12:00:00 AM</td>\n",
       "      <td>AA</td>\n",
       "      <td>AA</td>\n",
       "      <td>2658</td>\n",
       "      <td>Portland, OR</td>\n",
       "      <td>Phoenix, AZ</td>\n",
       "      <td>508</td>\n",
       "      <td>503.0</td>\n",
       "      <td>-5.0</td>\n",
       "      <td>838.0</td>\n",
       "      <td>-2.0</td>\n",
       "      <td>0.0</td>\n",
       "      <td>0.0</td>\n",
       "      <td>1009.0</td>\n",
       "    </tr>\n",
       "    <tr>\n",
       "      <th>9</th>\n",
       "      <td>1/1/2024 12:00:00 AM</td>\n",
       "      <td>AA</td>\n",
       "      <td>AA</td>\n",
       "      <td>2459</td>\n",
       "      <td>New York, NY</td>\n",
       "      <td>Santa Ana, CA</td>\n",
       "      <td>830</td>\n",
       "      <td>825.0</td>\n",
       "      <td>-5.0</td>\n",
       "      <td>1118.0</td>\n",
       "      <td>-53.0</td>\n",
       "      <td>0.0</td>\n",
       "      <td>0.0</td>\n",
       "      <td>2454.0</td>\n",
       "    </tr>\n",
       "  </tbody>\n",
       "</table>\n",
       "</div>"
      ],
      "text/plain": [
       "                FL_DATE MKT_UNIQUE_CARRIER OP_UNIQUE_CARRIER  \\\n",
       "0  1/1/2024 12:00:00 AM                 AA                AA   \n",
       "1  1/1/2024 12:00:00 AM                 AA                AA   \n",
       "2  1/1/2024 12:00:00 AM                 AA                AA   \n",
       "3  1/1/2024 12:00:00 AM                 AA                AA   \n",
       "4  1/1/2024 12:00:00 AM                 AA                AA   \n",
       "5  1/1/2024 12:00:00 AM                 AA                AA   \n",
       "6  1/1/2024 12:00:00 AM                 AA                AA   \n",
       "7  1/1/2024 12:00:00 AM                 AA                AA   \n",
       "8  1/1/2024 12:00:00 AM                 AA                AA   \n",
       "9  1/1/2024 12:00:00 AM                 AA                AA   \n",
       "\n",
       "   OP_CARRIER_FL_NUM ORIGIN_CITY_NAME   DEST_CITY_NAME  CRS_DEP_TIME  \\\n",
       "0                255     New York, NY  Los Angeles, CA           900   \n",
       "1                 32  Los Angeles, CA     New York, NY          1235   \n",
       "2               1578       Boston, MA  Los Angeles, CA          1800   \n",
       "3               1578  Los Angeles, CA       Boston, MA           750   \n",
       "4               1225      Phoenix, AZ     Portland, OR          1502   \n",
       "5               1225     Portland, OR      Phoenix, AZ          1815   \n",
       "6               1332       Denver, CO      Phoenix, AZ          1206   \n",
       "7               1332      Phoenix, AZ       Denver, CO           930   \n",
       "8               2658     Portland, OR      Phoenix, AZ           508   \n",
       "9               2459     New York, NY    Santa Ana, CA           830   \n",
       "\n",
       "   DEP_TIME  DEP_DELAY  ARR_TIME  ARR_DELAY  ARR_DELAY_NEW  CANCELLED  \\\n",
       "0     852.0       -8.0    1124.0      -63.0            0.0        0.0   \n",
       "1    1232.0       -3.0    2107.0        8.0            8.0        0.0   \n",
       "2    1754.0       -6.0    2041.0      -59.0            0.0        0.0   \n",
       "3     742.0       -8.0    1638.0       19.0           19.0        0.0   \n",
       "4    1458.0       -4.0    1654.0        0.0            0.0        0.0   \n",
       "5    1815.0        0.0    2139.0       -8.0            0.0        0.0   \n",
       "6    1204.0       -2.0    1355.0      -16.0            0.0        0.0   \n",
       "7     926.0       -4.0    1110.0      -11.0            0.0        0.0   \n",
       "8     503.0       -5.0     838.0       -2.0            0.0        0.0   \n",
       "9     825.0       -5.0    1118.0      -53.0            0.0        0.0   \n",
       "\n",
       "   DISTANCE  \n",
       "0    2475.0  \n",
       "1    2475.0  \n",
       "2    2611.0  \n",
       "3    2611.0  \n",
       "4    1009.0  \n",
       "5    1009.0  \n",
       "6     602.0  \n",
       "7     602.0  \n",
       "8    1009.0  \n",
       "9    2454.0  "
      ]
     },
     "execution_count": 53,
     "metadata": {},
     "output_type": "execute_result"
    }
   ],
   "source": [
    "flight.head(10)"
   ]
  },
  {
   "cell_type": "code",
   "execution_count": 55,
   "metadata": {},
   "outputs": [
    {
     "ename": "TypeError",
     "evalue": "'set' object is not callable",
     "output_type": "error",
     "traceback": [
      "\u001b[0;31m---------------------------------------------------------------------------\u001b[0m",
      "\u001b[0;31mTypeError\u001b[0m                                 Traceback (most recent call last)",
      "Cell \u001b[0;32mIn[55], line 1\u001b[0m\n\u001b[0;32m----> 1\u001b[0m \u001b[38;5;28mset\u001b[39m \u001b[38;5;241m=\u001b[39m \u001b[38;5;28mset\u001b[39m(df1[\u001b[38;5;124m'\u001b[39m\u001b[38;5;124mMKT_UNIQUE_CARRIER\u001b[39m\u001b[38;5;124m'\u001b[39m])\n\u001b[1;32m      2\u001b[0m \u001b[38;5;28mset\u001b[39m\n",
      "\u001b[0;31mTypeError\u001b[0m: 'set' object is not callable"
     ]
    }
   ],
   "source": [
    "set = set(df1['MKT_UNIQUE_CARRIER'])\n",
    "set"
   ]
  },
  {
   "cell_type": "code",
   "execution_count": 57,
   "metadata": {},
   "outputs": [
    {
     "data": {
      "text/plain": [
       "Index(['FL_DATE', 'MKT_UNIQUE_CARRIER', 'OP_UNIQUE_CARRIER', 'TAIL_NUM',\n",
       "       'OP_CARRIER_FL_NUM', 'ORIGIN_CITY_MARKET_ID', 'ORIGIN_CITY_NAME',\n",
       "       'ORIGIN_STATE_ABR', 'DEST_CITY_MARKET_ID', 'DEST_CITY_NAME',\n",
       "       'DEST_STATE_ABR', 'CRS_DEP_TIME', 'DEP_TIME', 'DEP_DELAY', 'TAXI_OUT',\n",
       "       'WHEELS_OFF', 'WHEELS_ON', 'TAXI_IN', 'ARR_TIME', 'ARR_DELAY',\n",
       "       'ARR_DELAY_NEW', 'CANCELLED', 'CANCELLATION_CODE', 'DIVERTED', 'DUP',\n",
       "       'DISTANCE', 'CARRIER_DELAY', 'WEATHER_DELAY', 'NAS_DELAY',\n",
       "       'SECURITY_DELAY', 'LATE_AIRCRAFT_DELAY', 'FIRST_DEP_TIME',\n",
       "       'TOTAL_ADD_GTIME', 'DIV_AIRPORT_LANDINGS', 'DIV_ACTUAL_ELAPSED_TIME',\n",
       "       'DIV1_AIRPORT', 'DIV1_WHEELS_ON', 'DIV1_TOTAL_GTIME', 'DIV1_WHEELS_OFF',\n",
       "       'DIV1_TAIL_NUM', 'DIV2_AIRPORT', 'DIV2_WHEELS_ON', 'DIV2_TOTAL_GTIME',\n",
       "       'DIV2_WHEELS_OFF', 'DIV2_TAIL_NUM', 'DIV3_AIRPORT', 'DIV3_WHEELS_ON',\n",
       "       'DIV3_TOTAL_GTIME', 'DIV3_WHEELS_OFF', 'DIV3_TAIL_NUM', 'DIV4_AIRPORT',\n",
       "       'DIV4_WHEELS_ON', 'DIV4_TOTAL_GTIME', 'DIV4_WHEELS_OFF',\n",
       "       'DIV4_TAIL_NUM', 'DIV5_AIRPORT', 'DIV5_WHEELS_ON', 'DIV5_WHEELS_OFF',\n",
       "       'DIV5_TAIL_NUM'],\n",
       "      dtype='object')"
      ]
     },
     "execution_count": 57,
     "metadata": {},
     "output_type": "execute_result"
    }
   ],
   "source": [
    "df1.columns"
   ]
  },
  {
   "cell_type": "code",
   "execution_count": 59,
   "metadata": {},
   "outputs": [
    {
     "name": "stderr",
     "output_type": "stream",
     "text": [
      "/var/folders/3v/mdv6bm7j6n99zg9hqgt9n70r0000gn/T/ipykernel_84684/1317069687.py:2: SettingWithCopyWarning: \n",
      "A value is trying to be set on a copy of a slice from a DataFrame.\n",
      "Try using .loc[row_indexer,col_indexer] = value instead\n",
      "\n",
      "See the caveats in the documentation: https://pandas.pydata.org/pandas-docs/stable/user_guide/indexing.html#returning-a-view-versus-a-copy\n",
      "  flight['TOTAL_DELAY'] = flight['ARR_DELAY'] + flight['DEP_DELAY']\n"
     ]
    }
   ],
   "source": [
    "# By OP UNIQUE CARRIER\n",
    "flight['TOTAL_DELAY'] = flight['ARR_DELAY'] + flight['DEP_DELAY']\n",
    "grouped_mean = flight.groupby('OP_UNIQUE_CARRIER')[['TOTAL_DELAY']].mean()"
   ]
  },
  {
   "cell_type": "code",
   "execution_count": 61,
   "metadata": {},
   "outputs": [],
   "source": [
    "# flight['TOTAL_DELAY'] = flight['ARR_DELAY'] + flight['DEP_DELAY']\n",
    "# grouped_sum = flight.groupby('OP_UNIQUE_CARRIER')[['TOTAL_DELAY']].sum()"
   ]
  },
  {
   "cell_type": "code",
   "execution_count": 161,
   "metadata": {},
   "outputs": [
    {
     "data": {
      "text/html": [
       "<div>\n",
       "<style scoped>\n",
       "    .dataframe tbody tr th:only-of-type {\n",
       "        vertical-align: middle;\n",
       "    }\n",
       "\n",
       "    .dataframe tbody tr th {\n",
       "        vertical-align: top;\n",
       "    }\n",
       "\n",
       "    .dataframe thead th {\n",
       "        text-align: right;\n",
       "    }\n",
       "</style>\n",
       "<table border=\"1\" class=\"dataframe\">\n",
       "  <thead>\n",
       "    <tr style=\"text-align: right;\">\n",
       "      <th></th>\n",
       "      <th>TOTAL_DELAY</th>\n",
       "    </tr>\n",
       "  </thead>\n",
       "  <tbody>\n",
       "    <tr>\n",
       "      <th>count</th>\n",
       "      <td>21.00</td>\n",
       "    </tr>\n",
       "    <tr>\n",
       "      <th>mean</th>\n",
       "      <td>29.94</td>\n",
       "    </tr>\n",
       "    <tr>\n",
       "      <th>std</th>\n",
       "      <td>20.43</td>\n",
       "    </tr>\n",
       "    <tr>\n",
       "      <th>min</th>\n",
       "      <td>7.42</td>\n",
       "    </tr>\n",
       "    <tr>\n",
       "      <th>25%</th>\n",
       "      <td>20.54</td>\n",
       "    </tr>\n",
       "    <tr>\n",
       "      <th>50%</th>\n",
       "      <td>25.87</td>\n",
       "    </tr>\n",
       "    <tr>\n",
       "      <th>75%</th>\n",
       "      <td>33.29</td>\n",
       "    </tr>\n",
       "    <tr>\n",
       "      <th>max</th>\n",
       "      <td>108.45</td>\n",
       "    </tr>\n",
       "  </tbody>\n",
       "</table>\n",
       "</div>"
      ],
      "text/plain": [
       "       TOTAL_DELAY\n",
       "count        21.00\n",
       "mean         29.94\n",
       "std          20.43\n",
       "min           7.42\n",
       "25%          20.54\n",
       "50%          25.87\n",
       "75%          33.29\n",
       "max         108.45"
      ]
     },
     "execution_count": 161,
     "metadata": {},
     "output_type": "execute_result"
    }
   ],
   "source": [
    "df_sorted_mean = grouped_mean.sort_values(by='TOTAL_DELAY', ascending=True).round(2)\n",
    "df_sorted_mean.describe().round(2)\n",
    "\n",
    "# We should divide the total delays by the number of flights in order to arrive at a reliable number since the sum doesn't tell us the whole story. Alternatively we can use the mean to get this number. We can see that YX has a delay of 7.42 minutes per flight on average, while ZW has 108.45 minutes, almost 2 hours per flight.\n"
   ]
  },
  {
   "cell_type": "code",
   "execution_count": 65,
   "metadata": {},
   "outputs": [
    {
     "data": {
      "text/html": [
       "<div>\n",
       "<style scoped>\n",
       "    .dataframe tbody tr th:only-of-type {\n",
       "        vertical-align: middle;\n",
       "    }\n",
       "\n",
       "    .dataframe tbody tr th {\n",
       "        vertical-align: top;\n",
       "    }\n",
       "\n",
       "    .dataframe thead th {\n",
       "        text-align: right;\n",
       "    }\n",
       "</style>\n",
       "<table border=\"1\" class=\"dataframe\">\n",
       "  <thead>\n",
       "    <tr style=\"text-align: right;\">\n",
       "      <th></th>\n",
       "      <th>TOTAL_DELAY</th>\n",
       "    </tr>\n",
       "    <tr>\n",
       "      <th>OP_UNIQUE_CARRIER</th>\n",
       "      <th></th>\n",
       "    </tr>\n",
       "  </thead>\n",
       "  <tbody>\n",
       "    <tr>\n",
       "      <th>ZW</th>\n",
       "      <td>108.45</td>\n",
       "    </tr>\n",
       "    <tr>\n",
       "      <th>YV</th>\n",
       "      <td>48.75</td>\n",
       "    </tr>\n",
       "    <tr>\n",
       "      <th>AA</th>\n",
       "      <td>41.70</td>\n",
       "    </tr>\n",
       "    <tr>\n",
       "      <th>OO</th>\n",
       "      <td>34.78</td>\n",
       "    </tr>\n",
       "    <tr>\n",
       "      <th>OH</th>\n",
       "      <td>33.49</td>\n",
       "    </tr>\n",
       "  </tbody>\n",
       "</table>\n",
       "</div>"
      ],
      "text/plain": [
       "                   TOTAL_DELAY\n",
       "OP_UNIQUE_CARRIER             \n",
       "ZW                      108.45\n",
       "YV                       48.75\n",
       "AA                       41.70\n",
       "OO                       34.78\n",
       "OH                       33.49"
      ]
     },
     "execution_count": 65,
     "metadata": {},
     "output_type": "execute_result"
    }
   ],
   "source": [
    "top_5_total = df_sorted_mean.iloc[:5]\n",
    "worst_5_total = df_sorted_mean.iloc[-5:].sort_values(by='TOTAL_DELAY', ascending=False)\n",
    "worst_5_total"
   ]
  },
  {
   "cell_type": "code",
   "execution_count": null,
   "metadata": {},
   "outputs": [],
   "source": []
  },
  {
   "cell_type": "code",
   "execution_count": 68,
   "metadata": {},
   "outputs": [],
   "source": [
    "# flight['TOTAL_DELAY'] = flight['ARR_DELAY'] + flight['DEP_DELAY']\n",
    "grouped_arr_mean = flight.groupby('OP_UNIQUE_CARRIER')[['ARR_DELAY']].mean()\n",
    "grouped_dep_mean = flight.groupby('OP_UNIQUE_CARRIER')[['DEP_DELAY']].mean()"
   ]
  },
  {
   "cell_type": "code",
   "execution_count": 70,
   "metadata": {},
   "outputs": [],
   "source": [
    "df_sorted_mean_arr = grouped_arr_mean.sort_values(by='ARR_DELAY', ascending=True).round(2)\n",
    "df_sorted_mean_dep = grouped_dep_mean.sort_values(by='DEP_DELAY', ascending=True).round(2)"
   ]
  },
  {
   "cell_type": "code",
   "execution_count": 72,
   "metadata": {},
   "outputs": [],
   "source": [
    "top_5_arr = df_sorted_mean_arr.iloc[:5]\n",
    "worst_5_arr = df_sorted_mean_arr.iloc[-5:].sort_values(by='ARR_DELAY', ascending=False)"
   ]
  },
  {
   "cell_type": "code",
   "execution_count": 74,
   "metadata": {},
   "outputs": [],
   "source": [
    "top_5_dep = df_sorted_mean_dep.iloc[:5]\n",
    "worst_5_dep = df_sorted_mean_dep.iloc[-5:].sort_values(by='DEP_DELAY', ascending=False)"
   ]
  },
  {
   "cell_type": "code",
   "execution_count": 94,
   "metadata": {},
   "outputs": [],
   "source": [
    "top_5_overall = df_sorted_mean.iloc[:5]\n",
    "worst_5_overall = df_sorted_mean.iloc[-5:].sort_values(by='TOTAL_DELAY', ascending=False)"
   ]
  },
  {
   "cell_type": "code",
   "execution_count": 76,
   "metadata": {},
   "outputs": [
    {
     "data": {
      "text/html": [
       "<div>\n",
       "<style scoped>\n",
       "    .dataframe tbody tr th:only-of-type {\n",
       "        vertical-align: middle;\n",
       "    }\n",
       "\n",
       "    .dataframe tbody tr th {\n",
       "        vertical-align: top;\n",
       "    }\n",
       "\n",
       "    .dataframe thead th {\n",
       "        text-align: right;\n",
       "    }\n",
       "</style>\n",
       "<table border=\"1\" class=\"dataframe\">\n",
       "  <thead>\n",
       "    <tr style=\"text-align: right;\">\n",
       "      <th></th>\n",
       "      <th>DEP_DELAY</th>\n",
       "    </tr>\n",
       "    <tr>\n",
       "      <th>OP_UNIQUE_CARRIER</th>\n",
       "      <th></th>\n",
       "    </tr>\n",
       "  </thead>\n",
       "  <tbody>\n",
       "    <tr>\n",
       "      <th>YX</th>\n",
       "      <td>6.84</td>\n",
       "    </tr>\n",
       "    <tr>\n",
       "      <th>PT</th>\n",
       "      <td>8.91</td>\n",
       "    </tr>\n",
       "    <tr>\n",
       "      <th>HA</th>\n",
       "      <td>9.96</td>\n",
       "    </tr>\n",
       "    <tr>\n",
       "      <th>G7</th>\n",
       "      <td>10.37</td>\n",
       "    </tr>\n",
       "    <tr>\n",
       "      <th>QX</th>\n",
       "      <td>11.79</td>\n",
       "    </tr>\n",
       "  </tbody>\n",
       "</table>\n",
       "</div>"
      ],
      "text/plain": [
       "                   DEP_DELAY\n",
       "OP_UNIQUE_CARRIER           \n",
       "YX                      6.84\n",
       "PT                      8.91\n",
       "HA                      9.96\n",
       "G7                     10.37\n",
       "QX                     11.79"
      ]
     },
     "execution_count": 76,
     "metadata": {},
     "output_type": "execute_result"
    }
   ],
   "source": [
    "top_5_dep"
   ]
  },
  {
   "cell_type": "code",
   "execution_count": 78,
   "metadata": {},
   "outputs": [
    {
     "data": {
      "text/html": [
       "<div>\n",
       "<style scoped>\n",
       "    .dataframe tbody tr th:only-of-type {\n",
       "        vertical-align: middle;\n",
       "    }\n",
       "\n",
       "    .dataframe tbody tr th {\n",
       "        vertical-align: top;\n",
       "    }\n",
       "\n",
       "    .dataframe thead th {\n",
       "        text-align: right;\n",
       "    }\n",
       "</style>\n",
       "<table border=\"1\" class=\"dataframe\">\n",
       "  <thead>\n",
       "    <tr style=\"text-align: right;\">\n",
       "      <th></th>\n",
       "      <th>ARR_DELAY</th>\n",
       "    </tr>\n",
       "    <tr>\n",
       "      <th>OP_UNIQUE_CARRIER</th>\n",
       "      <th></th>\n",
       "    </tr>\n",
       "  </thead>\n",
       "  <tbody>\n",
       "    <tr>\n",
       "      <th>YX</th>\n",
       "      <td>0.77</td>\n",
       "    </tr>\n",
       "    <tr>\n",
       "      <th>G7</th>\n",
       "      <td>2.68</td>\n",
       "    </tr>\n",
       "    <tr>\n",
       "      <th>DL</th>\n",
       "      <td>4.36</td>\n",
       "    </tr>\n",
       "    <tr>\n",
       "      <th>PT</th>\n",
       "      <td>5.83</td>\n",
       "    </tr>\n",
       "    <tr>\n",
       "      <th>WN</th>\n",
       "      <td>6.42</td>\n",
       "    </tr>\n",
       "  </tbody>\n",
       "</table>\n",
       "</div>"
      ],
      "text/plain": [
       "                   ARR_DELAY\n",
       "OP_UNIQUE_CARRIER           \n",
       "YX                      0.77\n",
       "G7                      2.68\n",
       "DL                      4.36\n",
       "PT                      5.83\n",
       "WN                      6.42"
      ]
     },
     "execution_count": 78,
     "metadata": {},
     "output_type": "execute_result"
    }
   ],
   "source": [
    "top_5_arr"
   ]
  },
  {
   "cell_type": "code",
   "execution_count": 206,
   "metadata": {},
   "outputs": [
    {
     "name": "stderr",
     "output_type": "stream",
     "text": [
      "/var/folders/3v/mdv6bm7j6n99zg9hqgt9n70r0000gn/T/ipykernel_84684/1854606500.py:1: FutureWarning: \n",
      "\n",
      "Passing `palette` without assigning `hue` is deprecated and will be removed in v0.14.0. Assign the `x` variable to `hue` and set `legend=False` for the same effect.\n",
      "\n",
      "  sns.barplot(x='OP_UNIQUE_CARRIER', y='DEP_DELAY', data=top_5_dep, palette='viridis')\n"
     ]
    },
    {
     "data": {
      "image/png": "[encoded data removed]",
      "text/plain": [
       "<Figure size 640x480 with 1 Axes>"
      ]
     },
     "metadata": {},
     "output_type": "display_data"
    }
   ],
   "source": [
    "sns.barplot(x='OP_UNIQUE_CARRIER', y='DEP_DELAY', data=top_5_dep, palette='viridis')\n",
    "\n",
    "# Set labels\n",
    "plt.xlabel('Carrier')\n",
    "plt.ylabel('Average Departure Delay (min)')\n",
    "plt.title('Top 5 most reliable in departure times')\n",
    "\n",
    "# Display the plot\n",
    "# plt.show()\n",
    "plt.savefig('Top 5 most reliable in departure times2.jpeg', format='jpeg', dpi=300)"
   ]
  },
  {
   "cell_type": "code",
   "execution_count": 166,
   "metadata": {},
   "outputs": [
    {
     "name": "stderr",
     "output_type": "stream",
     "text": [
      "/var/folders/3v/mdv6bm7j6n99zg9hqgt9n70r0000gn/T/ipykernel_84684/2533555769.py:1: FutureWarning: \n",
      "\n",
      "Passing `palette` without assigning `hue` is deprecated and will be removed in v0.14.0. Assign the `x` variable to `hue` and set `legend=False` for the same effect.\n",
      "\n",
      "  sns.barplot(x='OP_UNIQUE_CARRIER', y='DEP_DELAY', data=worst_5_dep, palette='rocket')\n"
     ]
    },
    {
     "data": {
      "image/png": "[encoded data removed]",
      "text/plain": [
       "<Figure size 640x480 with 1 Axes>"
      ]
     },
     "metadata": {},
     "output_type": "display_data"
    }
   ],
   "source": [
    "sns.barplot(x='OP_UNIQUE_CARRIER', y='DEP_DELAY', data=worst_5_dep, palette='rocket')\n",
    "\n",
    "# Set labels\n",
    "plt.xlabel('Carrier')\n",
    "plt.ylabel('Average Departure Delay (min)')\n",
    "plt.title('Worst 5 least reliable in departure times')\n",
    "\n",
    "# Display the plot\n",
    "# plt.show()\n",
    "plt.savefig('Worst 5 least reliable in departure times.jpeg', format='jpeg', dpi=300)"
   ]
  },
  {
   "cell_type": "code",
   "execution_count": 184,
   "metadata": {},
   "outputs": [
    {
     "name": "stderr",
     "output_type": "stream",
     "text": [
      "/var/folders/3v/mdv6bm7j6n99zg9hqgt9n70r0000gn/T/ipykernel_84684/2881686492.py:1: FutureWarning: \n",
      "\n",
      "Passing `palette` without assigning `hue` is deprecated and will be removed in v0.14.0. Assign the `x` variable to `hue` and set `legend=False` for the same effect.\n",
      "\n",
      "  sns.barplot(x='OP_UNIQUE_CARRIER', y='ARR_DELAY', data=top_5_arr, palette='viridis')\n"
     ]
    },
    {
     "data": {
      "image/png": "[encoded data removed]",
      "text/plain": [
       "<Figure size 640x480 with 1 Axes>"
      ]
     },
     "metadata": {},
     "output_type": "display_data"
    }
   ],
   "source": [
    "sns.barplot(x='OP_UNIQUE_CARRIER', y='ARR_DELAY', data=top_5_arr, palette='viridis')\n",
    "\n",
    "# Set labels\n",
    "plt.xlabel('Carrier')\n",
    "plt.ylabel('Average Departure Delay (min)')\n",
    "plt.title('Top 5 most reliable in arrival times')\n",
    "\n",
    "# Display the plot\n",
    "# plt.show()\n",
    "plt.savefig('Top 5 most reliable in arrival times.jpeg', format='jpeg', dpi=300)"
   ]
  },
  {
   "cell_type": "code",
   "execution_count": 200,
   "metadata": {},
   "outputs": [
    {
     "name": "stderr",
     "output_type": "stream",
     "text": [
      "/var/folders/3v/mdv6bm7j6n99zg9hqgt9n70r0000gn/T/ipykernel_84684/493935392.py:1: FutureWarning: \n",
      "\n",
      "Passing `palette` without assigning `hue` is deprecated and will be removed in v0.14.0. Assign the `x` variable to `hue` and set `legend=False` for the same effect.\n",
      "\n",
      "  sns.barplot(x='OP_UNIQUE_CARRIER', y='ARR_DELAY', data=worst_5_arr, palette='rocket')\n"
     ]
    },
    {
     "data": {
      "image/png": "[encoded data removed]",
      "text/plain": [
       "<Figure size 640x480 with 1 Axes>"
      ]
     },
     "metadata": {},
     "output_type": "display_data"
    }
   ],
   "source": [
    "sns.barplot(x='OP_UNIQUE_CARRIER', y='ARR_DELAY', data=worst_5_arr, palette='rocket')\n",
    "\n",
    "# Set labels\n",
    "plt.xlabel('Carrier')\n",
    "plt.ylabel('Average Departure Delay (min)')\n",
    "plt.title('Worst 5 least reliable in arrival times')\n",
    "\n",
    "# Display the plot\n",
    "# plt.show()\n",
    "plt.savefig('Worst 5 least reliable in arrival times.jpeg', format='jpeg', dpi=300)"
   ]
  },
  {
   "cell_type": "code",
   "execution_count": 186,
   "metadata": {},
   "outputs": [
    {
     "name": "stderr",
     "output_type": "stream",
     "text": [
      "/var/folders/3v/mdv6bm7j6n99zg9hqgt9n70r0000gn/T/ipykernel_84684/2399009426.py:1: FutureWarning: \n",
      "\n",
      "Passing `palette` without assigning `hue` is deprecated and will be removed in v0.14.0. Assign the `x` variable to `hue` and set `legend=False` for the same effect.\n",
      "\n",
      "  sns.barplot(x='OP_UNIQUE_CARRIER', y='TOTAL_DELAY', data=top_5_overall, palette='viridis')\n"
     ]
    },
    {
     "data": {
      "image/png": "[encoded data removed]",
      "text/plain": [
       "<Figure size 640x480 with 1 Axes>"
      ]
     },
     "metadata": {},
     "output_type": "display_data"
    }
   ],
   "source": [
    "sns.barplot(x='OP_UNIQUE_CARRIER', y='TOTAL_DELAY', data=top_5_overall, palette='viridis')\n",
    "\n",
    "# Set labels\n",
    "plt.xlabel('Carrier')\n",
    "plt.ylabel('Average Departure Delay (min)')\n",
    "plt.title('Top 5 most reliable overall')\n",
    "\n",
    "# Display the plot\n",
    "# plt.show()\n",
    "plt.savefig('Top 5 most reliable overall.jpeg', format='jpeg', dpi=300)"
   ]
  },
  {
   "cell_type": "code",
   "execution_count": 198,
   "metadata": {},
   "outputs": [
    {
     "name": "stderr",
     "output_type": "stream",
     "text": [
      "/var/folders/3v/mdv6bm7j6n99zg9hqgt9n70r0000gn/T/ipykernel_84684/4247851808.py:1: FutureWarning: \n",
      "\n",
      "Passing `palette` without assigning `hue` is deprecated and will be removed in v0.14.0. Assign the `x` variable to `hue` and set `legend=False` for the same effect.\n",
      "\n",
      "  sns.barplot(x='OP_UNIQUE_CARRIER', y='TOTAL_DELAY', data=worst_5_overall, palette='rocket')\n"
     ]
    },
    {
     "data": {
      "image/png": "[encoded data removed]",
      "text/plain": [
       "<Figure size 640x480 with 1 Axes>"
      ]
     },
     "metadata": {},
     "output_type": "display_data"
    }
   ],
   "source": [
    "sns.barplot(x='OP_UNIQUE_CARRIER', y='TOTAL_DELAY', data=worst_5_overall, palette='rocket')\n",
    "\n",
    "# Set labels\n",
    "plt.xlabel('Carrier')\n",
    "plt.ylabel('Average Departure Delay (min)')\n",
    "plt.title('Worst 5 least reliable overall')\n",
    "\n",
    "# Display the plot\n",
    "# plt.show()\n",
    "plt.savefig('Worst 5 least reliable overall.jpeg', format='jpeg', dpi=300)"
   ]
  },
  {
   "cell_type": "code",
   "execution_count": 190,
   "metadata": {},
   "outputs": [
    {
     "name": "stderr",
     "output_type": "stream",
     "text": [
      "/var/folders/3v/mdv6bm7j6n99zg9hqgt9n70r0000gn/T/ipykernel_84684/4129712027.py:1: FutureWarning: \n",
      "\n",
      "Passing `palette` without assigning `hue` is deprecated and will be removed in v0.14.0. Assign the `x` variable to `hue` and set `legend=False` for the same effect.\n",
      "\n",
      "  sns.barplot(x='OP_UNIQUE_CARRIER', y='TOTAL_DELAY', data=df_sorted_mean, palette='icefire')\n"
     ]
    },
    {
     "data": {
      "image/png": "[encoded data removed]",
      "text/plain": [
       "<Figure size 640x480 with 1 Axes>"
      ]
     },
     "metadata": {},
     "output_type": "display_data"
    }
   ],
   "source": [
    "sns.barplot(x='OP_UNIQUE_CARRIER', y='TOTAL_DELAY', data=df_sorted_mean, palette='icefire')\n",
    "\n",
    "# Set labels\n",
    "plt.xlabel('Carrier')\n",
    "plt.ylabel('Average Departure Delay (min)')\n",
    "plt.title('Total Average Delays All Carriers')\n",
    "\n",
    "# Display the plot\n",
    "# plt.show()\n",
    "plt.savefig('Total Average Delays All Carriers.jpeg', format='jpeg', dpi=300)"
   ]
  },
  {
   "cell_type": "code",
   "execution_count": null,
   "metadata": {},
   "outputs": [],
   "source": []
  },
  {
   "cell_type": "code",
   "execution_count": null,
   "metadata": {},
   "outputs": [],
   "source": [
    "# df_sorted_sum = grouped_sum.sort_values(by='TOTAL_DELAY', ascending=True).round(2)\n",
    "# df_sorted_sum"
   ]
  },
  {
   "cell_type": "code",
   "execution_count": null,
   "metadata": {},
   "outputs": [],
   "source": [
    "# By MKT UNIQUE CARRIER\n",
    "flight['TOTAL_DELAY'] = flight['ARR_DELAY'] + flight['DEP_DELAY']\n",
    "grouped_mean2 = flight.groupby('MKT_UNIQUE_CARRIER')[['TOTAL_DELAY']].mean()"
   ]
  },
  {
   "cell_type": "code",
   "execution_count": null,
   "metadata": {},
   "outputs": [],
   "source": [
    "df_sorted_mean2 = grouped_mean2.sort_values(by='TOTAL_DELAY', ascending=True).round(2)\n",
    "df_sorted_mean2"
   ]
  },
  {
   "cell_type": "code",
   "execution_count": null,
   "metadata": {},
   "outputs": [],
   "source": []
  },
  {
   "cell_type": "code",
   "execution_count": null,
   "metadata": {},
   "outputs": [],
   "source": []
  }
 ],
 "metadata": {
  "kernelspec": {
   "display_name": "Python 3 (ipykernel)",
   "language": "python",
   "name": "python3"
  },
  "language_info": {
   "codemirror_mode": {
    "name": "ipython",
    "version": 3
   },
   "file_extension": ".py",
   "mimetype": "text/x-python",
   "name": "python",
   "nbconvert_exporter": "python",
   "pygments_lexer": "ipython3",
   "version": "3.12.4"
  }
 },
 "nbformat": 4,
 "nbformat_minor": 4
}
