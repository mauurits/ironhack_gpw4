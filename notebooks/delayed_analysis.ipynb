{
 "cells": [
  {
   "cell_type": "code",
   "execution_count": null,
   "metadata": {},
   "outputs": [],
   "source": [
    "import pandas as pd\n",
    "import numpy as np\n",
    "import plotly.express as px\n",
    "\n",
    "data1 = \"../data/clean/flight.csv\"\n",
    "data2 = \"../data/clean/city.csv\"\n",
    "data3 = \"../data/clean/airlines.csv\"\n",
    "\n",
    "flight = pd.read_csv(data1, header=None)\n",
    "flight.columns = ['FL_DATE', 'OP_UNIQUE_CARRIER', 'OP_CARRIER_FL_NUM',\n",
    "       'ORIGIN_CITY_MARKET_ID', 'DEST_CITY_MARKET_ID', 'CRS_DEP_TIME',\n",
    "       'DEP_TIME', 'DEP_DELAY', 'ARR_TIME', 'ARR_DELAY', 'ARR_DELAY_NEW',\n",
    "       'CANCELLED', 'DISTANCE']\n",
    "city = pd.read_csv(data2)\n",
    "airlines = pd.read_csv(data3)"
   ]
  },
  {
   "cell_type": "code",
   "execution_count": null,
   "metadata": {},
   "outputs": [],
   "source": [
    "# Defining function for categorization (ON-TIME, DELAY, CANCELLED)\n",
    "def delay_cat(delay):\n",
    "    if pd.isnull(delay):  # Check for NaN\n",
    "        return 'Cancelled'\n",
    "    elif delay <= 0:\n",
    "        return 'On-time'\n",
    "    elif delay <= 15:\n",
    "        return 'Small Delay'\n",
    "    elif delay <= 45:\n",
    "        return 'Medium Delay'\n",
    "    else:\n",
    "        return 'Large Delay'\n",
    "    \n",
    "flight[\"dep_delay_cat\"] = flight[\"DEP_DELAY\"].apply(delay_cat) \n",
    "flight[\"arr_delay_cat\"] = flight[\"ARR_DELAY\"].apply(delay_cat) "
   ]
  },
  {
   "cell_type": "code",
   "execution_count": null,
   "metadata": {},
   "outputs": [],
   "source": [
    "#Checking categorization\n",
    "flight[[\"dep_delay_cat\",\"DEP_DELAY\",\"CANCELLED\"]][(flight[\"dep_delay_cat\"]==\"Cancelled\")].head()\n",
    "flight[[\"arr_delay_cat\",\"ARR_DELAY\",\"CANCELLED\"]][(flight[\"arr_delay_cat\"]==\"Cancelled\")].head()\n",
    "flight[[\"dep_delay_cat\",\"DEP_DELAY\",\"CANCELLED\"]].head(10)\n",
    "flight[[\"arr_delay_cat\",\"ARR_DELAY\",\"CANCELLED\"]].head(10)\n",
    "flight[[\"num_flight\"]]=1"
   ]
  },
  {
   "cell_type": "code",
   "execution_count": null,
   "metadata": {},
   "outputs": [],
   "source": [
    "#Flight status dataset\n",
    "flight_status = flight[['FL_DATE', 'OP_UNIQUE_CARRIER', 'OP_CARRIER_FL_NUM',\n",
    "       'ORIGIN_CITY_MARKET_ID', 'DEST_CITY_MARKET_ID', 'CRS_DEP_TIME',\n",
    "       'DEP_TIME', 'DEP_DELAY','CANCELLED', 'DISTANCE', 'dep_delay_cat',\n",
    "       'num_flight']]\n",
    "status_flight = {'Cancelled': 'Cancelled', 'On-time': 'On-time','Small Delay': 'Delay', 'Medium Delay': 'Delay', 'Large Delay':'Delay' }\n",
    "flight_status['flight_departure_status'] = flight_status['dep_delay_cat'].map(status_flight)"
   ]
  },
  {
   "cell_type": "code",
   "execution_count": null,
   "metadata": {},
   "outputs": [],
   "source": [
    "# Visualization Number of Flight by Carrier and Flight Status\n",
    "status = flight_status.groupby(['OP_UNIQUE_CARRIER','flight_departure_status'], as_index=False)['num_flight'].count()\n",
    "status[\"iata\"]=status[\"OP_UNIQUE_CARRIER\"]\n",
    "status = pd.merge(airlines, status, on='iata', how='inner')\n",
    "status['Total per Airlines'] = status.groupby('OP_UNIQUE_CARRIER')['num_flight'].transform('sum')\n",
    "status[\"% Total\"] = (status[\"num_flight\"] / status[\"Total per Airlines\"]) * 100\n",
    "\n",
    "fig = px.bar(status, x=\"name\", y=\"num_flight\", color=\"flight_departure_status\", title=\"Number of flights by carrier\")\n",
    "fig.update_layout(barmode='stack', xaxis={'categoryorder':'total descending'})\n",
    "fig.write_html('../figures/number_of_flights_by_carrier.html', auto_open=True)\n",
    "fig.write_image(\"../figures/number_of_flights_by_carrier.png\")\n",
    "\n"
   ]
  },
  {
   "cell_type": "code",
   "execution_count": null,
   "metadata": {},
   "outputs": [],
   "source": [
    "flight_status.groupby(['OP_UNIQUE_CARRIER'], as_index=False).count().head(5).sort_values(by=\"num_flight\", ascending=False)"
   ]
  },
  {
   "cell_type": "code",
   "execution_count": null,
   "metadata": {},
   "outputs": [],
   "source": [
    "# Most delayed airlines\n",
    "status[status[\"flight_departure_status\"]==\"Delay\"][['name','iata','flight_departure_status','% Total']].sort_values(by=['% Total'], ascending=False).head(5)"
   ]
  },
  {
   "cell_type": "code",
   "execution_count": null,
   "metadata": {},
   "outputs": [],
   "source": [
    "# Top 5 Airlines Analysis\n",
    "top5 = status[['name','iata','flight_departure_status','% Total',\"Total per Airlines\"]].sort_values(by=['Total per Airlines','flight_departure_status'], ascending=False).head(15)\n",
    "top5[top5[\"flight_departure_status\"]==\"Delay\"][[\"name\",\"iata\",\"flight_departure_status\",\"% Total\"]]"
   ]
  },
  {
   "cell_type": "code",
   "execution_count": null,
   "metadata": {},
   "outputs": [],
   "source": [
    "# Flight Delayed Dataframe\n",
    "delay = [\"Small Delay\", \"Medium Delay\",\"Large Delay\"]\n",
    "departure_delay = flight[(flight['dep_delay_cat'].isin(delay))]\n",
    "departure_delay = departure_delay[['FL_DATE', 'OP_UNIQUE_CARRIER', 'OP_CARRIER_FL_NUM',\n",
    "       'ORIGIN_CITY_MARKET_ID', 'DEST_CITY_MARKET_ID', 'CRS_DEP_TIME',\n",
    "       'DEP_TIME', 'DEP_DELAY','DISTANCE','dep_delay_cat','num_flight']]\n",
    "\n",
    "delay_carrier = departure_delay.groupby(['OP_UNIQUE_CARRIER','dep_delay_cat'], as_index=False)['num_flight'].count()\n",
    "delay_carrier['Total per Airlines'] = delay_carrier.groupby('OP_UNIQUE_CARRIER')['num_flight'].transform('sum')\n",
    "delay_carrier[\"Percentage of Delay Categorization\"] = (delay_carrier[\"num_flight\"] / delay_carrier[\"Total per Airlines\"]) * 100\n",
    "delay_carrier[\"iata\"]=delay_carrier[\"OP_UNIQUE_CARRIER\"]\n",
    "delay_carrier = pd.merge(airlines, delay_carrier, on='iata', how='inner')\n",
    "\n",
    "fig = px.bar(delay_carrier, x=\"name\", y=\"Percentage of Delay Categorization\", color=\"dep_delay_cat\", title=\"Delay Categorization by Airlines\")\n",
    "fig.update_layout(barmode='stack', xaxis={'categoryorder':'total descending'})\n",
    "fig.write_html('../figures/delay_categorization_by_carrier.html', auto_open=True)\n",
    "fig.write_image(\"../figures/delay_categorization_by_carrier.png\")"
   ]
  },
  {
   "cell_type": "code",
   "execution_count": null,
   "metadata": {},
   "outputs": [],
   "source": [
    "# Delayed Analysis of Leading Airlines\n",
    "delay_top5 = delay_carrier[['name','iata','dep_delay_cat','Percentage of Delay Categorization',\"Total per Airlines\"]].sort_values(by=['Total per Airlines','Percentage of Delay Categorization'], ascending=False).head(15)\n",
    "\n",
    "fig = px.bar(delay_top5, x=\"name\", y=\"Percentage of Delay Categorization\", color=\"dep_delay_cat\", title=\"Delay Categorization by Leading Airlines\")\n",
    "fig.update_layout(barmode='stack', xaxis={'categoryorder':'total descending'}, font=dict(size=25))\n",
    "fig.write_html('../figures/delay_categorization_by_carrier5.html', auto_open=True)\n",
    "fig.write_image(\"../figures/delay_categorization_by_carrier5.png\", width=800, height=1000)"
   ]
  },
  {
   "cell_type": "code",
   "execution_count": null,
   "metadata": {},
   "outputs": [],
   "source": [
    "# Small Delay\n",
    "small_delay = delay_carrier[delay_carrier[\"dep_delay_cat\"]==\"Small Delay\"]\n",
    "small_delay[\"% of Small Delay\"] = small_delay[\"Percentage of Delay Categorization\"]\n",
    "small_delay[[\"name\",\"iata\",\"dep_delay_cat\",\"% of Small Delay\"]].sort_values(by=\"% of Small Delay\", ascending=False).head(5)"
   ]
  },
  {
   "cell_type": "code",
   "execution_count": null,
   "metadata": {},
   "outputs": [],
   "source": [
    "# Large Delay\n",
    "large_delay = delay_carrier[delay_carrier[\"dep_delay_cat\"]==\"Large Delay\"]\n",
    "large_delay[\"% of Large Delay\"] = large_delay[\"Percentage of Delay Categorization\"]\n",
    "large_delay[[\"name\",\"iata\",\"dep_delay_cat\",\"% of Large Delay\"]].sort_values(by=\"% of Large Delay\", ascending=False).head(5)"
   ]
  },
  {
   "cell_type": "code",
   "execution_count": null,
   "metadata": {},
   "outputs": [],
   "source": [
    "# Medium Delay\n",
    "medium_delay = delay_carrier[delay_carrier[\"dep_delay_cat\"]==\"Medium Delay\"]\n",
    "medium_delay[\"% of Medium Delay\"] = medium_delay[\"Percentage of Delay Categorization\"]\n",
    "medium_delay[[\"name\",\"iata\",\"dep_delay_cat\",\"% of Medium Delay\"]].sort_values(by=\"% of Medium Delay\", ascending=False).head(5)"
   ]
  }
 ],
 "metadata": {
  "kernelspec": {
   "display_name": "Python 3",
   "language": "python",
   "name": "python3"
  },
  "language_info": {
   "codemirror_mode": {
    "name": "ipython",
    "version": 3
   },
   "file_extension": ".py",
   "mimetype": "text/x-python",
   "name": "python",
   "nbconvert_exporter": "python",
   "pygments_lexer": "ipython3",
   "version": "3.7.4"
  }
 },
 "nbformat": 4,
 "nbformat_minor": 4
}
