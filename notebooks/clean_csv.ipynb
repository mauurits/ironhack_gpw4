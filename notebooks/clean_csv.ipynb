{
 "cells": [
  {
   "cell_type": "markdown",
   "metadata": {},
   "source": [
    "#### Dataset:\n",
    "    1. Commercial Flight US - January 2024\n",
    "    2. City Code\n",
    "    3. Airlines Code (IATA)"
   ]
  },
  {
   "cell_type": "code",
   "execution_count": null,
   "metadata": {},
   "outputs": [],
   "source": [
    "import pandas as pd\n",
    "import numpy as np\n",
    "\n",
    "data1 = \"../data/raw/T_ONTIME_MARKETING.csv\"\n",
    "data2 = \"../data/raw/Consumer_Airfare_Report__Table_2_-_Top_1_000_City-Pair_Markets_20240827.csv\"\n",
    "data3 = \"../data/raw/airlines.dat\"\n",
    "\n",
    "df1 = pd.read_csv(data1, low_memory=False)\n",
    "df2 = pd.read_csv(data2)\n",
    "df3 = pd.read_csv(data3, encoding='utf8')\n",
    "df3.columns = [\"airline_id\",\"name\",\"alias\",\"iata\",\"icao\",\"callsign\",\"country\",\"active\"]\n",
    "\n",
    "#Cleaning flight table (Primary key: 'FL_DATE', 'OP_UNIQUE_CARRIER','OP_CARRIER_FL_NUM','ORIGIN_CITY_MARKET_ID','DEP_TIME')\n",
    "flight = df1[['FL_DATE','OP_UNIQUE_CARRIER','OP_CARRIER_FL_NUM','ORIGIN_CITY_MARKET_ID','DEST_CITY_MARKET_ID',\n",
    "              'CRS_DEP_TIME','DEP_TIME', 'DEP_DELAY', 'ARR_TIME', 'ARR_DELAY','ARR_DELAY_NEW',\n",
    "           'CANCELLED','DISTANCE']]\n",
    "flight['FL_DATE'] = pd.to_datetime(flight['FL_DATE'])\n",
    "flight['FL_DATE'] = flight['FL_DATE'].dt.strftime('%Y%m%d')\n",
    "\n",
    "def convert_to_hhmmss(time_float):\n",
    "    try: # Zero-pad the string to ensure it is at least 4 digits long\n",
    "        time_str = str(int(time_float)).zfill(4)\n",
    "        # Return the formatted time string as hhmmss\n",
    "        return f\"{time_str[:2]}{time_str[2:4]}00\"\n",
    "    except ValueError:\n",
    "        return None\n",
    "\n",
    "# Apply the conversion function to the time_column\n",
    "flight['CRS_DEP_TIME'] = flight['DEP_TIME'].apply(convert_to_hhmmss)\n",
    "flight['DEP_TIME'] = flight['DEP_TIME'].apply(convert_to_hhmmss)\n",
    "flight['ARR_TIME'] = flight['ARR_TIME'].apply(convert_to_hhmmss)\n",
    "\n",
    "# Cleaning city table (Primary key: citymarketid)\n",
    "city = df2[(df2[\"Year\"]==2024)].reset_index()\n",
    "city = city[['citymarketid', 'city','markets','cur_passengers','cur_fare']]\n",
    "city.columns = ['citymarketid', 'city_name','markets','cur_passengers','cur_fare']\n",
    "city[\"state\"]=city['city_name'].str.split(', ').str[1].str[:2]\n",
    "city[\"city_name\"]=city['city_name'].str.split(', ').str[0]\n",
    "city = city[['citymarketid', 'city_name', 'state','markets','cur_passengers','cur_fare']]\n",
    "\n",
    "# Cleaning airlines table (Primary key: iata)\n",
    "airlines = df3.drop_duplicates(subset=['iata'])\n",
    "airlines = airlines.drop(0)\n",
    "airlines = airlines.drop(1).reset_index()\n",
    "airlines = airlines[['name','iata','country']]\n",
    "#Only keep 21 iata\n",
    "df1[\"citymarketid\"]=df1[\"ORIGIN_CITY_MARKET_ID\"]\n",
    "flight2 = flight.rename(columns= {'OP_UNIQUE_CARRIER':'iata'})\n",
    "flight2 = flight2.drop_duplicates(subset=['iata'])\n",
    "merge2 = pd.merge(airlines, flight2, on='iata', how='inner')\n",
    "airlines = merge2[[\"name\",\"iata\",\"country\"]]"
   ]
  },
  {
   "cell_type": "code",
   "execution_count": null,
   "metadata": {},
   "outputs": [],
   "source": [
    "# Export cleaned tables as csv to be loaded to MySQL\n",
    "\n",
    "#city\n",
    "city.to_csv('../data/clean/city.csv', index=False)  \n",
    "\n",
    "#flight\n",
    "flight.to_csv('../data/clean/flight.csv', header=False, index=False)  \n",
    "\n",
    "#airlines\n",
    "airlines.to_csv('../data/clean/airlines.csv', index=False)  "
   ]
  }
 ],
 "metadata": {
  "kernelspec": {
   "display_name": "Python 3",
   "language": "python",
   "name": "python3"
  },
  "language_info": {
   "codemirror_mode": {
    "name": "ipython",
    "version": 3
   },
   "file_extension": ".py",
   "mimetype": "text/x-python",
   "name": "python",
   "nbconvert_exporter": "python",
   "pygments_lexer": "ipython3",
   "version": "3.7.4"
  }
 },
 "nbformat": 4,
 "nbformat_minor": 4
}
